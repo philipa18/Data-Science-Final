{
  "nbformat": 4,
  "nbformat_minor": 0,
  "metadata": {
    "colab": {
      "name": "final.ipynb",
      "provenance": []
    },
    "kernelspec": {
      "display_name": "Python 3",
      "name": "python3"
    }
  },
  "cells": [
    {
      "cell_type": "markdown",
      "metadata": {
        "id": "PFtBzvbwAZlF"
      },
      "source": [
        "<h1>The Relationship Between Prominence of Brands in Popular Music and Their Success</h1>\n",
        "Philip Alexander\n",
        "\n",
        "<h2>Introduction</h2>\n",
        "In a deeply consumeristic society such as our own, it is no\n",
        "surprise that the brands that are either present in our everyday lives, or want to be, are represented in our music through verbal mentions. Whether these are the result of genuine relation to the narrative the artist is telling, a brand deal, or simple braggadocio, one would find it difficult to find an album of a popular RNB or Rap artist without namedropping a designer label.\n",
        "\n",
        "To examine how brand popularity with artists can alter\n",
        "consumer behavior (or vice versa) we will attempt to find\n",
        "a relationship between recent references in popular music of the main subsidiaries of Kering, a luxury brand conglomerate, to their financial success.\n",
        "\n",
        "<h2>Data Collection</h2>\n",
        "<h3>Determining What Music is Popular</h3>\n",
        "<a href = 'www.billboard.com/charts'>Billboard's charts</a> are the authoritative source on what music is commercially\n",
        "succesful across genres. They provide lists that rank the\n",
        "best performing songs in different time periods in different\n",
        "genres with different methodoligies. We will be making the\n",
        "most use out of the year-end Hot 100's, which are the 100 most popular songs from any genre for a given year in America when granting some weight to each of streaming, radio, and sales.\n",
        "<h3>Determining Lyrical Content</h3>\n",
        "<a href = 'genius.com'>Genius</a> is a site that hosts the lyrics to pretty much any song released commercially within the United States. There\n",
        "are API allows us to search for a link a page to these lyrics given a track title and/or an artist. Luckily we\n",
        "can use a wrapper module of this API to scrape the lyrics\n",
        "at this link for us.\n",
        "<h3>Determining Financal Success</h3>\n",
        "Unfortunately, I could not find a way to programmatical retrieve the revenue generated individual subsidaries of Kering. In Lieu of this, I manually gathered the end of\n",
        "year revenue from 2010 to 2019 and proportion of this revenue from North America for 3 subsidaries: Gucci, Bottega Veneta, and Yves Saint Laurent."
      ]
    },
    {
      "cell_type": "code",
      "metadata": {
        "colab": {
          "base_uri": "https://localhost:8080/",
          "height": 0
        },
        "id": "iKwcw53vWUCz",
        "outputId": "b446b88c-5786-4aa1-e79a-05d6a3292881"
      },
      "source": [
        "!pip install lyricsgenius\n",
        "!pip install billboard.py\n",
        "import lyricsgenius\n",
        "import billboard\n",
        "from collections import Counter\n",
        "import string\n",
        "import numpy as np\n",
        "import pandas as pd"
      ],
      "execution_count": 9,
      "outputs": [
        {
          "output_type": "stream",
          "text": [
            "Requirement already satisfied: lyricsgenius in /usr/local/lib/python3.6/dist-packages (2.0.2)\n",
            "Requirement already satisfied: beautifulsoup4>=4.6.0 in /usr/local/lib/python3.6/dist-packages (from lyricsgenius) (4.6.3)\n",
            "Requirement already satisfied: requests>=2.20.0 in /usr/local/lib/python3.6/dist-packages (from lyricsgenius) (2.23.0)\n",
            "Requirement already satisfied: chardet<4,>=3.0.2 in /usr/local/lib/python3.6/dist-packages (from requests>=2.20.0->lyricsgenius) (3.0.4)\n",
            "Requirement already satisfied: idna<3,>=2.5 in /usr/local/lib/python3.6/dist-packages (from requests>=2.20.0->lyricsgenius) (2.10)\n",
            "Requirement already satisfied: certifi>=2017.4.17 in /usr/local/lib/python3.6/dist-packages (from requests>=2.20.0->lyricsgenius) (2020.12.5)\n",
            "Requirement already satisfied: urllib3!=1.25.0,!=1.25.1,<1.26,>=1.21.1 in /usr/local/lib/python3.6/dist-packages (from requests>=2.20.0->lyricsgenius) (1.24.3)\n",
            "Requirement already satisfied: billboard.py in /usr/local/lib/python3.6/dist-packages (6.2.1)\n",
            "Requirement already satisfied: beautifulsoup4>=4.4.1 in /usr/local/lib/python3.6/dist-packages (from billboard.py) (4.6.3)\n",
            "Requirement already satisfied: requests>=2.2.1 in /usr/local/lib/python3.6/dist-packages (from billboard.py) (2.23.0)\n",
            "Requirement already satisfied: idna<3,>=2.5 in /usr/local/lib/python3.6/dist-packages (from requests>=2.2.1->billboard.py) (2.10)\n",
            "Requirement already satisfied: urllib3!=1.25.0,!=1.25.1,<1.26,>=1.21.1 in /usr/local/lib/python3.6/dist-packages (from requests>=2.2.1->billboard.py) (1.24.3)\n",
            "Requirement already satisfied: chardet<4,>=3.0.2 in /usr/local/lib/python3.6/dist-packages (from requests>=2.2.1->billboard.py) (3.0.4)\n",
            "Requirement already satisfied: certifi>=2017.4.17 in /usr/local/lib/python3.6/dist-packages (from requests>=2.2.1->billboard.py) (2020.12.5)\n"
          ],
          "name": "stdout"
        }
      ]
    },
    {
      "cell_type": "code",
      "metadata": {
        "id": "XJT8KSUEJhjj"
      },
      "source": [
        "# Our genius api token. If this token stops working for you, take one from here https://docs.genius.com/#annotations-h2\n",
        "token = 'UG3mE7O-f2RKGCJYi6XKRvFGbAewVjjPIkrCdUixbe7WMnI7V-TURQElvKfg3xX3'\n",
        "genius = lyricsgenius.Genius(token)"
      ],
      "execution_count": 10,
      "outputs": []
    },
    {
      "cell_type": "code",
      "metadata": {
        "colab": {
          "base_uri": "https://localhost:8080/",
          "height": 0
        },
        "id": "1NM0MICnyRUY",
        "outputId": "e54c6af9-124b-4805-8a14-b5c8c73f5540"
      },
      "source": [
        "# Here is an example of using the library. \n",
        "# Here we gather all unique words in Cardi B's Bodak Yellow that are 3+ letters\n",
        "# and capitalized, which would theoritically pull any brand names from the Song\n",
        "genius.verbose = True\n",
        "genius.remove_section_headers = True\n",
        "song = genius.search_song(title='Bodak Yellow Money Moves', artist='Cardi B', get_full_info = False)\n",
        "uni = set(word for word in song.lyrics.translate(str.maketrans('', '', string.punctuation)).split() if word[0].isupper())\n",
        "print(uni)"
      ],
      "execution_count": 40,
      "outputs": [
        {
          "output_type": "stream",
          "text": [
            "Searching for \"Bodak Yellow Money Moves\" by Cardi B...\n",
            "Done.\n",
            "{'Say', 'If', 'Account', 'Ms', 'Yadadadadadada', 'Broke', 'Yellow', 'Bank', 'Yeah', 'Said', 'Dumb', 'And', 'Savage', 'Hit', 'These', 'You', 'Triple', 'See', 'Lacoste', 'I', 'Khalid', 'Young', 'Harleys', 'Moncler', 'One', 'Wooah', 'Ready', 'With', 'Yadadadadadadada', 'Cause', 'Cardi', 'In', 'Mixed', 'Im', 'Guccid', 'B', 'God', 'Raris', 'Got', 'Bodak', 'Lil'}\n"
          ],
          "name": "stdout"
        }
      ]
    },
    {
      "cell_type": "code",
      "metadata": {
        "colab": {
          "base_uri": "https://localhost:8080/",
          "height": 359
        },
        "id": "eBuPlhKa8Hub",
        "outputId": "79a6ddc6-2202-4869-87e9-df98e6fd8edd"
      },
      "source": [
        "# The revenue for three subsidiaries of interest across 2010 to 2019\n",
        "# will be stored in dataframes.\n",
        "# Gucci earnings\n",
        "g_earn = pd.read_csv('GucciGroup/Gucci.csv')\n",
        "# Bottega earnings\n",
        "b_earn = pd.read_csv('GucciGroup/Bottega.csv')\n",
        "# Yves Saint Laurent earnings\n",
        "s_earn = pd.read_csv('GucciGroup/Saint Laurent.csv')\n",
        "g_earn\n"
      ],
      "execution_count": 11,
      "outputs": [
        {
          "output_type": "execute_result",
          "data": {
            "text/html": [
              "<div>\n",
              "<style scoped>\n",
              "    .dataframe tbody tr th:only-of-type {\n",
              "        vertical-align: middle;\n",
              "    }\n",
              "\n",
              "    .dataframe tbody tr th {\n",
              "        vertical-align: top;\n",
              "    }\n",
              "\n",
              "    .dataframe thead th {\n",
              "        text-align: right;\n",
              "    }\n",
              "</style>\n",
              "<table border=\"1\" class=\"dataframe\">\n",
              "  <thead>\n",
              "    <tr style=\"text-align: right;\">\n",
              "      <th></th>\n",
              "      <th>Year</th>\n",
              "      <th>Revenue (Million Euros)</th>\n",
              "      <th>NA Proportion</th>\n",
              "    </tr>\n",
              "  </thead>\n",
              "  <tbody>\n",
              "    <tr>\n",
              "      <th>0</th>\n",
              "      <td>2010</td>\n",
              "      <td>2666</td>\n",
              "      <td>0.18</td>\n",
              "    </tr>\n",
              "    <tr>\n",
              "      <th>1</th>\n",
              "      <td>2011</td>\n",
              "      <td>3143</td>\n",
              "      <td>0.18</td>\n",
              "    </tr>\n",
              "    <tr>\n",
              "      <th>2</th>\n",
              "      <td>2012</td>\n",
              "      <td>3639</td>\n",
              "      <td>0.19</td>\n",
              "    </tr>\n",
              "    <tr>\n",
              "      <th>3</th>\n",
              "      <td>2013</td>\n",
              "      <td>3561</td>\n",
              "      <td>0.20</td>\n",
              "    </tr>\n",
              "    <tr>\n",
              "      <th>4</th>\n",
              "      <td>2014</td>\n",
              "      <td>3497</td>\n",
              "      <td>0.20</td>\n",
              "    </tr>\n",
              "    <tr>\n",
              "      <th>5</th>\n",
              "      <td>2015</td>\n",
              "      <td>3898</td>\n",
              "      <td>0.22</td>\n",
              "    </tr>\n",
              "    <tr>\n",
              "      <th>6</th>\n",
              "      <td>2016</td>\n",
              "      <td>4378</td>\n",
              "      <td>0.21</td>\n",
              "    </tr>\n",
              "    <tr>\n",
              "      <th>7</th>\n",
              "      <td>2017</td>\n",
              "      <td>6211</td>\n",
              "      <td>0.21</td>\n",
              "    </tr>\n",
              "    <tr>\n",
              "      <th>8</th>\n",
              "      <td>2018</td>\n",
              "      <td>8285</td>\n",
              "      <td>0.21</td>\n",
              "    </tr>\n",
              "    <tr>\n",
              "      <th>9</th>\n",
              "      <td>2019</td>\n",
              "      <td>9628</td>\n",
              "      <td>0.20</td>\n",
              "    </tr>\n",
              "  </tbody>\n",
              "</table>\n",
              "</div>"
            ],
            "text/plain": [
              "   Year  Revenue (Million Euros)  NA Proportion\n",
              "0  2010                     2666           0.18\n",
              "1  2011                     3143           0.18\n",
              "2  2012                     3639           0.19\n",
              "3  2013                     3561           0.20\n",
              "4  2014                     3497           0.20\n",
              "5  2015                     3898           0.22\n",
              "6  2016                     4378           0.21\n",
              "7  2017                     6211           0.21\n",
              "8  2018                     8285           0.21\n",
              "9  2019                     9628           0.20"
            ]
          },
          "metadata": {
            "tags": []
          },
          "execution_count": 11
        }
      ]
    },
    {
      "cell_type": "code",
      "metadata": {
        "colab": {
          "base_uri": "https://localhost:8080/",
          "height": 0
        },
        "id": "xSnNoDhR3uLv",
        "outputId": "cccc30e1-bb33-4548-cd92-9ac662b24bec"
      },
      "source": [
        "genius.verbose = False\n",
        "genius.remove_section_headers = True\n",
        "guc_mentions = [0]*10\n",
        "bot_mentions = [0]*10\n",
        "ysl_mentions = [0]*10\n",
        "\n",
        "err_count = 0\n",
        "\n",
        "for year in range(2010,2020):\n",
        "  print('Scrawling through Hot 100 of', year)\n",
        "  frq_lst = Counter()\n",
        "  chart = billboard.ChartData('hot-100-songs', year=year)\n",
        "  for pos in chart:\n",
        "    song = genius.search_song(title=pos.title, artist=pos.artist, get_full_info = False)\n",
        "    if not song:\n",
        "      song = genius.search_song(title=pos.title.split(' ')[0], artist=pos.artist.split(' ')[-1], get_full_info = False)\n",
        "    if song:\n",
        "      if 'Bottega' in song.lyrics or 'Veneta' in Song.lyrics:\n",
        "        bot_mentions[year-2010]+=1\n",
        "      if 'YSL' in sing.lyrics or 'Laurent' in Song.Lyrics\n",
        "        ysl_mentions[year-2010]+=1\n",
        "      if 'Gucci' in song.lyrics:\n",
        "        guc_mentions[year-2010]+=1\n",
        "    # Unfortunately, due to the variety of ways to format artists, features, &\n",
        "    # titles, not every song of the 1000 we analyze can be captured.\n",
        "    elif not song:\n",
        "      print('problem with', pos)\n",
        "      err_count+=1\n",
        "\n",
        "print('Error Count:', err_count)\n",
        "#print('Total Occurences:', total_count)"
      ],
      "execution_count": 14,
      "outputs": [
        {
          "output_type": "stream",
          "text": [
            "Scrawling through Hot 100 of 2010\n",
            "Scrawling through Hot 100 of 2011\n",
            "problem with 'F**kin' Perfect' by P!nk\n",
            "Scrawling through Hot 100 of 2012\n",
            "Scrawling through Hot 100 of 2013\n",
            "problem with 'Boys 'round Here' by Blake Shelton Featuring Pistol Annies & Friends\n",
            "Scrawling through Hot 100 of 2014\n",
            "Scrawling through Hot 100 of 2015\n",
            "Scrawling through Hot 100 of 2016\n",
            "Scrawling through Hot 100 of 2017\n",
            "Scrawling through Hot 100 of 2018\n",
            "Scrawling through Hot 100 of 2019\n",
            "Error Count: 2\n"
          ],
          "name": "stdout"
        }
      ]
    },
    {
      "cell_type": "markdown",
      "metadata": {
        "id": "wxzpgAEBgNBp"
      },
      "source": [
        "<h3>Data Collection Results</h3>\n",
        "Now we have the financial data and lyrical popularity for each of the the three labels this past decade."
      ]
    },
    {
      "cell_type": "code",
      "metadata": {
        "colab": {
          "base_uri": "https://localhost:8080/",
          "height": 359
        },
        "id": "eoRoR5bcV2UB",
        "outputId": "ea369a09-ced5-42cf-bc97-fe1101a32a03"
      },
      "source": [
        "# Add mentions to the tables\n",
        "g_earn['Mentions'] = guc_mentions\n",
        "b_earn['Mentions'] = bot_mentions\n",
        "s_earn['Mentions'] = ysl_mentions\n",
        "g_earn"
      ],
      "execution_count": 17,
      "outputs": [
        {
          "output_type": "execute_result",
          "data": {
            "text/html": [
              "<div>\n",
              "<style scoped>\n",
              "    .dataframe tbody tr th:only-of-type {\n",
              "        vertical-align: middle;\n",
              "    }\n",
              "\n",
              "    .dataframe tbody tr th {\n",
              "        vertical-align: top;\n",
              "    }\n",
              "\n",
              "    .dataframe thead th {\n",
              "        text-align: right;\n",
              "    }\n",
              "</style>\n",
              "<table border=\"1\" class=\"dataframe\">\n",
              "  <thead>\n",
              "    <tr style=\"text-align: right;\">\n",
              "      <th></th>\n",
              "      <th>Year</th>\n",
              "      <th>Revenue (Million Euros)</th>\n",
              "      <th>NA Proportion</th>\n",
              "      <th>Mentions</th>\n",
              "    </tr>\n",
              "  </thead>\n",
              "  <tbody>\n",
              "    <tr>\n",
              "      <th>0</th>\n",
              "      <td>2010</td>\n",
              "      <td>2666</td>\n",
              "      <td>0.18</td>\n",
              "      <td>1</td>\n",
              "    </tr>\n",
              "    <tr>\n",
              "      <th>1</th>\n",
              "      <td>2011</td>\n",
              "      <td>3143</td>\n",
              "      <td>0.18</td>\n",
              "      <td>1</td>\n",
              "    </tr>\n",
              "    <tr>\n",
              "      <th>2</th>\n",
              "      <td>2012</td>\n",
              "      <td>3639</td>\n",
              "      <td>0.19</td>\n",
              "      <td>0</td>\n",
              "    </tr>\n",
              "    <tr>\n",
              "      <th>3</th>\n",
              "      <td>2013</td>\n",
              "      <td>3561</td>\n",
              "      <td>0.20</td>\n",
              "      <td>2</td>\n",
              "    </tr>\n",
              "    <tr>\n",
              "      <th>4</th>\n",
              "      <td>2014</td>\n",
              "      <td>3497</td>\n",
              "      <td>0.20</td>\n",
              "      <td>1</td>\n",
              "    </tr>\n",
              "    <tr>\n",
              "      <th>5</th>\n",
              "      <td>2015</td>\n",
              "      <td>3898</td>\n",
              "      <td>0.22</td>\n",
              "      <td>0</td>\n",
              "    </tr>\n",
              "    <tr>\n",
              "      <th>6</th>\n",
              "      <td>2016</td>\n",
              "      <td>4378</td>\n",
              "      <td>0.21</td>\n",
              "      <td>2</td>\n",
              "    </tr>\n",
              "    <tr>\n",
              "      <th>7</th>\n",
              "      <td>2017</td>\n",
              "      <td>6211</td>\n",
              "      <td>0.21</td>\n",
              "      <td>8</td>\n",
              "    </tr>\n",
              "    <tr>\n",
              "      <th>8</th>\n",
              "      <td>2018</td>\n",
              "      <td>8285</td>\n",
              "      <td>0.21</td>\n",
              "      <td>9</td>\n",
              "    </tr>\n",
              "    <tr>\n",
              "      <th>9</th>\n",
              "      <td>2019</td>\n",
              "      <td>9628</td>\n",
              "      <td>0.20</td>\n",
              "      <td>7</td>\n",
              "    </tr>\n",
              "  </tbody>\n",
              "</table>\n",
              "</div>"
            ],
            "text/plain": [
              "   Year  Revenue (Million Euros)  NA Proportion  Mentions\n",
              "0  2010                     2666           0.18         1\n",
              "1  2011                     3143           0.18         1\n",
              "2  2012                     3639           0.19         0\n",
              "3  2013                     3561           0.20         2\n",
              "4  2014                     3497           0.20         1\n",
              "5  2015                     3898           0.22         0\n",
              "6  2016                     4378           0.21         2\n",
              "7  2017                     6211           0.21         8\n",
              "8  2018                     8285           0.21         9\n",
              "9  2019                     9628           0.20         7"
            ]
          },
          "metadata": {
            "tags": []
          },
          "execution_count": 17
        }
      ]
    },
    {
      "cell_type": "markdown",
      "metadata": {
        "id": "MEA0hP9hjOvG"
      },
      "source": [
        "<h2>Initial Analysis</h2>"
      ]
    },
    {
      "cell_type": "code",
      "metadata": {
        "colab": {
          "base_uri": "https://localhost:8080/",
          "height": 803
        },
        "id": "Ebs7n60BjVzW",
        "outputId": "cd64af2d-6189-4d12-bba9-96e7b602c57e"
      },
      "source": [
        "import matplotlib.pyplot as plt\n",
        "g_earn.plot(kind='scatter',x='Mentions',y='Revenue (Million Euros)', color = 'red')\n",
        "b_earn.plot(kind='scatter',x='Mentions',y='Revenue (Million Euros)', color='green')\n",
        "s_earn.plot(kind='scatter',x='Mentions',y='Revenue (Million Euros)', color='blue')\n",
        "plt.show()"
      ],
      "execution_count": 19,
      "outputs": [
        {
          "output_type": "display_data",
          "data": {
            "image/png": "[encoded data removed]",
            "text/plain": [
              "<Figure size 432x288 with 1 Axes>"
            ]
          },
          "metadata": {
            "tags": [],
            "needs_background": "light"
          }
        },
        {
          "output_type": "display_data",
          "data": {
            "image/png": "[encoded data removed]",
            "text/plain": [
              "<Figure size 432x288 with 1 Axes>"
            ]
          },
          "metadata": {
            "tags": [],
            "needs_background": "light"
          }
        },
        {
          "output_type": "display_data",
          "data": {
            "image/png": "[encoded data removed]",
            "text/plain": [
              "<Figure size 432x288 with 1 Axes>"
            ]
          },
          "metadata": {
            "tags": [],
            "needs_background": "light"
          }
        }
      ]
    },
    {
      "cell_type": "markdown",
      "metadata": {
        "id": "P4GUq2W3ew7-"
      },
      "source": [
        "<H>"
      ]
    }
  ]
}